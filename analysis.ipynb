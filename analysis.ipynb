{
 "cells": [
  {
   "cell_type": "code",
   "execution_count": null,
   "metadata": {},
   "outputs": [],
   "source": [
    "# imports\n",
    "import os\n",
    "import pandas as pd"
   ]
  },
  {
   "cell_type": "markdown",
   "metadata": {},
   "source": [
    "## Data Loading"
   ]
  },
  {
   "cell_type": "markdown",
   "metadata": {},
   "source": [
    "## Preprocessing\n",
    "\n",
    "We have multiple labels per observation.\n",
    "\n",
    "* Atelectasis\n",
    "* Cardiomegaly\n",
    "* Effusion\n",
    "* Infiltration\n",
    "* Mass\n",
    "* Nodule\n",
    "* Pneumonia\n",
    "* Pneumothorax\n",
    "* Consolidation\n",
    "* Edema\n",
    "* Emphysema\n",
    "* Fibrosis\n",
    "* Pleural_Thickening\n",
    "* Hernia\n",
    "\n",
    "\"Mass\" is difficult to detect, therefore if there any \"multiple-diagnoses\" with this label, we will make the observation solely \"Mass\". All other multiple-diagnoses will be disregarded."
   ]
  },
  {
   "cell_type": "markdown",
   "metadata": {},
   "source": []
  }
 ],
 "metadata": {
  "language_info": {
   "name": "python"
  }
 },
 "nbformat": 4,
 "nbformat_minor": 2
}
